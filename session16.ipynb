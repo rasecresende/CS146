{
 "cells": [
  {
   "cell_type": "code",
   "execution_count": 5,
   "id": "0148cd6a-58c5-4ea7-b6c7-a2181f079189",
   "metadata": {},
   "outputs": [],
   "source": [
    "import numpy as np\n",
    "import scipy.stats as sts\n",
    "import random"
   ]
  },
  {
   "cell_type": "code",
   "execution_count": 6,
   "id": "c2aee358-ba7b-4138-8c70-cb54ceaf7fff",
   "metadata": {},
   "outputs": [
    {
     "data": {
      "text/plain": [
       "[[34, 33, 19, 32], [29, 15, 16, 24], [26, 4, 21, 23]]"
      ]
     },
     "execution_count": 6,
     "metadata": {},
     "output_type": "execute_result"
    }
   ],
   "source": [
    "alpha = beta = 1\n",
    "\n",
    "n = [[random.randint(1, 35) for i in range(4)] for j in range(3)]\n",
    "p = sts.beta.rvs(alpha, beta, size=3)\n",
    "k = [[sts.binom.rvs(n[i][j],p[i]) for j in range(4)] for i in range(3)]\n",
    "\n",
    "k"
   ]
  },
  {
   "cell_type": "code",
   "execution_count": null,
   "id": "e1c0bb7b-8f67-439a-bd96-6476a40e2217",
   "metadata": {},
   "outputs": [],
   "source": []
  }
 ],
 "metadata": {
  "kernelspec": {
   "display_name": "Python 3 (ipykernel)",
   "language": "python",
   "name": "python3"
  },
  "language_info": {
   "codemirror_mode": {
    "name": "ipython",
    "version": 3
   },
   "file_extension": ".py",
   "mimetype": "text/x-python",
   "name": "python",
   "nbconvert_exporter": "python",
   "pygments_lexer": "ipython3",
   "version": "3.8.12"
  }
 },
 "nbformat": 4,
 "nbformat_minor": 5
}
