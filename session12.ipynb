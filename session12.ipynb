{
 "cells": [
  {
   "cell_type": "code",
   "execution_count": 2,
   "id": "c5c1e8ce-1976-4a7d-99cb-ba65e28eac21",
   "metadata": {},
   "outputs": [],
   "source": [
    "import numpy as np\n",
    "import matplotlib.pyplot as plt\n",
    "from scipy import stats\n",
    "from scipy.stats import norm, binom\n",
    "import pandas as pd"
   ]
  },
  {
   "cell_type": "code",
   "execution_count": 7,
   "id": "f4d93399-5c54-41ea-8a04-f4145610d4b6",
   "metadata": {},
   "outputs": [],
   "source": [
    "#function for confidence interval\n",
    "def confint_95(n, p):\n",
    "    distribution = norm(loc = p, scale = np.sqrt(p*(1-p)/n))\n",
    "    margin = (distribution.interval(0.95)[1]-p)*100\n",
    "    print('The error margin for', p, 'is equal to : {:.1f}%'.format(margin))"
   ]
  },
  {
   "cell_type": "code",
   "execution_count": 8,
   "id": "7232419a-2361-46b7-b3cf-5993f960cdac",
   "metadata": {},
   "outputs": [
    {
     "name": "stdout",
     "output_type": "stream",
     "text": [
      "Margin of Error for:  100\n",
      "The error margin for 0.1 is equal to : 5.9%\n",
      "The error margin for 0.2 is equal to : 7.8%\n",
      "The error margin for 0.3 is equal to : 9.0%\n",
      "The error margin for 0.4 is equal to : 9.6%\n",
      "The error margin for 0.5 is equal to : 9.8%\n",
      "The error margin for 0.6 is equal to : 9.6%\n",
      "The error margin for 0.7 is equal to : 9.0%\n",
      "The error margin for 0.8 is equal to : 7.8%\n",
      "The error margin for 0.9 is equal to : 5.9%\n",
      "Margin of Error for:  250\n",
      "The error margin for 0.1 is equal to : 3.7%\n",
      "The error margin for 0.2 is equal to : 5.0%\n",
      "The error margin for 0.3 is equal to : 5.7%\n",
      "The error margin for 0.4 is equal to : 6.1%\n",
      "The error margin for 0.5 is equal to : 6.2%\n",
      "The error margin for 0.6 is equal to : 6.1%\n",
      "The error margin for 0.7 is equal to : 5.7%\n",
      "The error margin for 0.8 is equal to : 5.0%\n",
      "The error margin for 0.9 is equal to : 3.7%\n",
      "Margin of Error for:  500\n",
      "The error margin for 0.1 is equal to : 2.6%\n",
      "The error margin for 0.2 is equal to : 3.5%\n",
      "The error margin for 0.3 is equal to : 4.0%\n",
      "The error margin for 0.4 is equal to : 4.3%\n",
      "The error margin for 0.5 is equal to : 4.4%\n",
      "The error margin for 0.6 is equal to : 4.3%\n",
      "The error margin for 0.7 is equal to : 4.0%\n",
      "The error margin for 0.8 is equal to : 3.5%\n",
      "The error margin for 0.9 is equal to : 2.6%\n",
      "Margin of Error for:  750\n",
      "The error margin for 0.1 is equal to : 2.1%\n",
      "The error margin for 0.2 is equal to : 2.9%\n",
      "The error margin for 0.3 is equal to : 3.3%\n",
      "The error margin for 0.4 is equal to : 3.5%\n",
      "The error margin for 0.5 is equal to : 3.6%\n",
      "The error margin for 0.6 is equal to : 3.5%\n",
      "The error margin for 0.7 is equal to : 3.3%\n",
      "The error margin for 0.8 is equal to : 2.9%\n",
      "The error margin for 0.9 is equal to : 2.1%\n",
      "Margin of Error for:  1000\n",
      "The error margin for 0.1 is equal to : 1.9%\n",
      "The error margin for 0.2 is equal to : 2.5%\n",
      "The error margin for 0.3 is equal to : 2.8%\n",
      "The error margin for 0.4 is equal to : 3.0%\n",
      "The error margin for 0.5 is equal to : 3.1%\n",
      "The error margin for 0.6 is equal to : 3.0%\n",
      "The error margin for 0.7 is equal to : 2.8%\n",
      "The error margin for 0.8 is equal to : 2.5%\n",
      "The error margin for 0.9 is equal to : 1.9%\n"
     ]
    }
   ],
   "source": [
    "# Trying on all the values in the Total Survey Error\n",
    "for i in [100,250,500,750,1000]:\n",
    "    print(\"Margin of Error for: \", i)\n",
    "    for _ in [0.1,0.2,0.3,0.4,0.5,0.6,0.7,0.8,0.9]:\n",
    "        confint_95(i, _)"
   ]
  },
  {
   "cell_type": "markdown",
   "id": "c8b8b269-e9f1-4289-a514-20a18068418a",
   "metadata": {},
   "source": [
    "Binomial distribution is appropriate because there are only two possible outcomes given independent events (asking surveyed people) each with a probability of success (responder says yes or no)"
   ]
  },
  {
   "cell_type": "code",
   "execution_count": null,
   "id": "3286114b-0244-4115-a361-9d9f81282884",
   "metadata": {},
   "outputs": [],
   "source": []
  }
 ],
 "metadata": {
  "kernelspec": {
   "display_name": "Python 3 (ipykernel)",
   "language": "python",
   "name": "python3"
  },
  "language_info": {
   "codemirror_mode": {
    "name": "ipython",
    "version": 3
   },
   "file_extension": ".py",
   "mimetype": "text/x-python",
   "name": "python",
   "nbconvert_exporter": "python",
   "pygments_lexer": "ipython3",
   "version": "3.8.12"
  }
 },
 "nbformat": 4,
 "nbformat_minor": 5
}
