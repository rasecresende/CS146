{
 "cells": [
  {
   "cell_type": "code",
   "execution_count": 6,
   "id": "271e91b8-b094-4ce8-aa7a-ea05f0ffb94a",
   "metadata": {},
   "outputs": [],
   "source": [
    "import numpy as np\n",
    "import scipy.stats as sts\n",
    "import matplotlib.pyplot as plt\n",
    "import scipy.stats as sts\n",
    "from scipy.optimize import minimize"
   ]
  },
  {
   "cell_type": "code",
   "execution_count": 15,
   "id": "02849fe9-6a47-4c6a-9f1d-4a3b53b542c8",
   "metadata": {},
   "outputs": [
    {
     "name": "stdout",
     "output_type": "stream",
     "text": [
      "[ 2.30000053 11.00030577  9.56252291 23.54692931]\n"
     ]
    }
   ],
   "source": [
    "def f(x):    \n",
    "    mu = x[0]\n",
    "    nu = x[1]\n",
    "    alpha = x[2]\n",
    "    beta = x[3]\n",
    "    xmean_1 = mu\n",
    "    stdev_x = np.sqrt(beta/(alpha-1)/nu)\n",
    "    mean_sigma = beta/(alpha-1)\n",
    "    stdev_sigma = beta/(alpha-1)/np.sqrt(alpha-2)\n",
    "    return (xmean_1 - 2.3)**2 + (stdev_x - 0.5)**2 + (mean_sigma - 2.75)**2 + (stdev_sigma - 1)**2\n",
    "\n",
    "\n",
    "x_initial = [0.1, 0.1, 10, 1]\n",
    "result = minimize(f, x_initial)\n",
    "x_final = result.x\n",
    "print(x_final)"
   ]
  },
  {
   "cell_type": "code",
   "execution_count": null,
   "id": "2edf9884-88d6-45b5-9705-d58d1dbeddfd",
   "metadata": {},
   "outputs": [],
   "source": []
  }
 ],
 "metadata": {
  "kernelspec": {
   "display_name": "Python 3 (ipykernel)",
   "language": "python",
   "name": "python3"
  },
  "language_info": {
   "codemirror_mode": {
    "name": "ipython",
    "version": 3
   },
   "file_extension": ".py",
   "mimetype": "text/x-python",
   "name": "python",
   "nbconvert_exporter": "python",
   "pygments_lexer": "ipython3",
   "version": "3.8.12"
  }
 },
 "nbformat": 4,
 "nbformat_minor": 5
}
