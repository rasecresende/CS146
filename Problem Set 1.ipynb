{
 "cells": [
  {
   "cell_type": "markdown",
   "id": "187d2c12-a0d4-4d5e-9b0c-c504096dac91",
   "metadata": {},
   "source": [
    "# Problem 1: Call center data modeling"
   ]
  },
  {
   "cell_type": "markdown",
   "id": "1083eefa-f4f8-45f9-a0b1-a78a702870b5",
   "metadata": {},
   "source": [
    "We start by copying the functions defined during breakout activity in class session 2.2"
   ]
  },
  {
   "cell_type": "code",
   "execution_count": 1,
   "id": "73846bf0-d2ea-409a-9f7c-a51c5cd20218",
   "metadata": {},
   "outputs": [],
   "source": [
    "import numpy as np\n",
    "import scipy as sp\n",
    "import scipy.stats as sts\n",
    "import matplotlib.pyplot as plt\n",
    "\n",
    "%matplotlib inline"
   ]
  },
  {
   "cell_type": "code",
   "execution_count": 2,
   "id": "8750aff4-07b8-49bb-beb7-694130cdd171",
   "metadata": {},
   "outputs": [],
   "source": [
    "# Load the data set containing durations between calls arriving at the call\n",
    "# center during 1 day. All values are in minutes.\n",
    "waiting_times_day = np.loadtxt(\n",
    "    'https://course-resources.minerva.kgi.edu/uploaded_files/mke/'\n",
    "    '00124343-8397/call-center.csv')\n",
    "\n",
    "# Make 24 empty lists, one per hour.\n",
    "waiting_times_per_hour = [[] for _ in range(24)]\n",
    "\n",
    "# Split the data into 24 separate series, one for each hour of the day.\n",
    "current_time = 0\n",
    "for t in waiting_times_day:\n",
    "    current_hour = int(current_time // 60)\n",
    "    current_time += t\n",
    "    waiting_times_per_hour[current_hour].append(t)"
   ]
  },
  {
   "cell_type": "code",
   "execution_count": 3,
   "id": "7dfd9807-4dff-402d-9dec-f771ac9af232",
   "metadata": {},
   "outputs": [],
   "source": [
    "def prior(lambda_):\n",
    "    return sts.gamma(1, scale=1/0.25).pdf(lambda_)\n",
    "\n",
    "def likelihood(lambda_, datum):\n",
    "    return sts.expon(scale=1/lambda_).pdf(datum)\n",
    "\n",
    "def compute_posterior(parameter_values, prior, likelihood, data):\n",
    "    log_prior = np.log(prior(parameter_values))\n",
    "    log_likelihood = np.array([\n",
    "        np.sum(np.log(likelihood(param, data)))\n",
    "        for param in parameter_values])\n",
    "    unnormalized_log_posterior = log_prior + log_likelihood\n",
    "    unnormalized_log_posterior -= max(unnormalized_log_posterior)\n",
    "    unnormalized_posterior = np.exp(unnormalized_log_posterior)\n",
    "    area = sp.integrate.trapz(unnormalized_posterior, parameter_values)\n",
    "    posterior = unnormalized_posterior / area\n",
    "    return posterior\n",
    "\n",
    "def compute_percentile(parameter_values, distribution_values, percentile):\n",
    "    cumulative_distribution = sp.integrate.cumtrapz(\n",
    "        distribution_values, parameter_values)\n",
    "    percentile_index = np.searchsorted(cumulative_distribution, percentile)\n",
    "    return lambdas[percentile_index]"
   ]
  },
  {
   "cell_type": "markdown",
   "id": "3d423073-da3c-4483-8318-5849c88a82c7",
   "metadata": {},
   "source": [
    "Now to find the 98% posterior confidence interval and the posterior mean for each hour of the day"
   ]
  },
  {
   "cell_type": "code",
   "execution_count": 4,
   "id": "075b6a3a-bbd8-435a-86b1-d577c34d20d8",
   "metadata": {},
   "outputs": [],
   "source": [
    "percentiles_list = []\n",
    "for hour_index in range(len(waiting_times_per_hour)):\n",
    "    waiting_times_hour = waiting_times_per_hour[hour_index]\n",
    "    lambdas = np.linspace(0, 20, 501)[1:]\n",
    "    posterior = compute_posterior(lambdas, prior, likelihood, waiting_times_hour)\n",
    "\n",
    "    percentiles = [compute_percentile(lambdas, posterior, p) for p in [0.01, 0.99]]\n",
    "    percentiles_list.append(percentiles)\n",
    "    \n",
    "\n",
    "posterior_means = []\n",
    "for percentile in percentiles_list:\n",
    "    mean = (percentile[0]+percentile[1])/2\n",
    "    posterior_means.append(mean)"
   ]
  },
  {
   "cell_type": "code",
   "execution_count": 5,
   "id": "84a1c1d0-f659-4fd5-81eb-a3d58b1dba38",
   "metadata": {},
   "outputs": [
    {
     "name": "stdout",
     "output_type": "stream",
     "text": [
      "Lambda Mean | Confidence Interval \n",
      "\n",
      "0.12000000000000001 [0.04, 0.2]\n",
      "0.1 [0.04, 0.16]\n",
      "0.1 [0.04, 0.16]\n",
      "0.26 [0.08, 0.44]\n",
      "0.44 [0.24, 0.64]\n",
      "0.8999999999999999 [0.6, 1.2]\n",
      "1.58 [1.2, 1.96]\n",
      "2.88 [2.36, 3.4]\n",
      "4.26 [3.64, 4.88]\n",
      "5.720000000000001 [5.0, 6.44]\n",
      "8.280000000000001 [7.4, 9.16]\n",
      "15.34 [14.16, 16.52]\n",
      "14.260000000000002 [13.120000000000001, 15.4]\n",
      "6.36 [5.6000000000000005, 7.12]\n",
      "3.1 [2.56, 3.64]\n",
      "3.44 [2.88, 4.0]\n",
      "4.38 [3.7600000000000002, 5.0]\n",
      "6.98 [6.2, 7.76]\n",
      "8.8 [7.92, 9.68]\n",
      "6.66 [5.88, 7.44]\n",
      "2.3000000000000003 [1.84, 2.7600000000000002]\n",
      "0.8400000000000001 [0.56, 1.12]\n",
      "0.34 [0.16, 0.52]\n",
      "0.3 [0.12, 0.48]\n"
     ]
    }
   ],
   "source": [
    "res = \"\\n\".join(\"{} {}\".format(x, y) for x, y in zip(posterior_means, percentiles_list))\n",
    "print(\"Lambda Mean | Confidence Interval \\n\")\n",
    "print(res)"
   ]
  },
  {
   "cell_type": "code",
   "execution_count": 6,
   "id": "e6f447b0-6963-4b59-8ab6-84927a8169de",
   "metadata": {},
   "outputs": [
    {
     "data": {
      "image/png": "[encoded data removed]",
      "text/plain": [
       "<Figure size 1080x720 with 1 Axes>"
      ]
     },
     "metadata": {
      "needs_background": "light"
     },
     "output_type": "display_data"
    }
   ],
   "source": [
    "plt.figure(figsize=(15,10))\n",
    "plt.errorbar(range(24), posterior_means, \n",
    "             [(interval[1]-interval[0])/2 for interval in percentiles_list],\n",
    "            fmt='o')\n",
    "plt.xlabel('Hour of the day')\n",
    "plt.ylabel('Call rate (calls per minute)')\n",
    "plt.show()"
   ]
  },
  {
   "cell_type": "markdown",
   "id": "19d33bea-1c01-4316-881a-493cdea5c2c5",
   "metadata": {},
   "source": [
    "From the plot, we can see how the call rates vary throughout the day. Depending on which hour, we see that there is a lot of variation with most calls coming between 10:00 and 13:00. The periods with least activity are late night and early morning which is from 21:00 to 5:00. Those numbers are reasonable and seem to reflect how a work day usually goes, with most people calling during lunch time and a second, smaller peak between 17:00 and 19:00, which are the times where clients are most free to call.\n",
    "\n",
    "From the graph, we can also see the uncertainty surrounding our estimates. With the dots being the mean number of expected calls and the surrounding error bars reflecting a 98% confidence interval (the values where the likely true rate lies). This is a high confidence number, so we can be confident in our predictions. However, this range of values changes depending on the hour of the day, so for certain hours the possible values are tighter than others.\n",
    "\n",
    "For the least busy hours, the range of values is small, however, for the busy times, this varies greatly. It's important to take note of this when preparing to address clients (such as deciding how many attendants should be on the phone). For example, in hour 11:00, the possible values at this confidence interval are [14.16, 16.52], meaning we would have to be just as ready to prepare for both of these rates.\n",
    "\n",
    "Lastly, our predictions could always improve by gathering more data. The more we have, the narrower our confidence interval will be and more certain we can be of what are the true call rate values throughout the day.\n"
   ]
  },
  {
   "cell_type": "markdown",
   "id": "9ccc1153-f7ce-4441-bc94-365c941cfae3",
   "metadata": {},
   "source": [
    "# Problem 2: Bent coin inference"
   ]
  },
  {
   "cell_type": "markdown",
   "id": "d535b43e-814d-4522-847d-82f11af19794",
   "metadata": {},
   "source": [
    "We want to find P(pi|x), where pi is the success parameter (the probability of coin coming up heads) and x is the data. To achieve this, we use Bayesian inference\n",
    "\n",
    "The Beta distribution is conjugate prior to the Binomial distribution, as such, we can easily calculate the parameters of the posterior distribution from the parameters of the prior distribution and the data.\n",
    "\n",
    "\n",
    "$$\n",
    "\\begin{align}\n",
    "  \\alpha_{\\text{post}} &= \\alpha + \\sum_{i=1}^n x_i  \\\\\n",
    "  \\beta_{\\text{post}} &= \\beta + \\sum_{i=1}^n N_1 - \\sum_{i=1}^n x_i\n",
    "     {}{}\n",
    "\\end{align}\n",
    "$$"
   ]
  },
  {
   "cell_type": "code",
   "execution_count": 7,
   "id": "cbb740b3-2585-4172-a1aa-eea8d2964259",
   "metadata": {},
   "outputs": [],
   "source": [
    "import numpy as np\n",
    "import scipy.stats as sts\n",
    "import matplotlib.pyplot as plt\n",
    "\n",
    "n = 20 #number of trials\n",
    "x = 6 #number of heads\n",
    "\n",
    "a = 0.5\n",
    "b = 0.5\n",
    "\n",
    "a_post = a + x\n",
    "b_post = b + n - x\n",
    "\n",
    "distribution = sts.beta(a = a_post, b = b_post)"
   ]
  },
  {
   "cell_type": "code",
   "execution_count": 8,
   "id": "dfa5341c-63d0-4aa6-bd6a-eed0815f5277",
   "metadata": {},
   "outputs": [
    {
     "data": {
      "image/png": "[encoded data removed]",
      "text/plain": [
       "<Figure size 432x288 with 1 Axes>"
      ]
     },
     "metadata": {
      "needs_background": "light"
     },
     "output_type": "display_data"
    },
    {
     "name": "stdout",
     "output_type": "stream",
     "text": [
      "Posterior Mean 0.3033772741576859\n",
      "Pr biased for heads: 3.54735868012932 %\n",
      "95% Confidence Interval: (0.1361162265871905, 0.5172282485669721)\n"
     ]
    }
   ],
   "source": [
    "x = np.linspace(0,1)\n",
    "\n",
    "cdf = (1 - distribution.cdf([0.5]))*100\n",
    "confidence = distribution.interval(0.95)\n",
    "\n",
    "plt.figure()\n",
    "plt.title('Posterior Distribution')\n",
    "plt.plot(x, distribution.pdf(x))\n",
    "plt.axvline(confidence[0], linestyle='dashed', color=\"black\")\n",
    "plt.axvline(confidence[1], linestyle='dashed', color=\"black\")\n",
    "plt.show()\n",
    "\n",
    "print('Posterior Mean', distribution.ppf([0.5])[0])\n",
    "print(f'Pr biased for heads: {cdf[0]} %')\n",
    "print(f'95% Confidence Interval: {confidence}')"
   ]
  },
  {
   "cell_type": "markdown",
   "id": "5eef7908-2dc2-4b89-b843-9c460ef531a4",
   "metadata": {},
   "source": [
    "For the parameters of the prior distribution, we choose 1 for both alpha and beta. This would represent an arcsine prior, and we choose this approach because we have absence of knowledge about the parameter value pi (the only thing we know is that the coin is bent, but not for which side). Therefore, we intentionally choose an uninformative prior.\n",
    "\n",
    "The 95% confidence interval of pi is represented by the dashed lines in the plot, which is where the likely true value of our parameter pi lies on. The confidence interval is from 0.13 to 0.517, with posterior mean of 0.30\n",
    "\n",
    "To compute the probability that the coin is biased in favor of heads, we calculate 1 - cumulative distribution function at point 0.5. This essentially gives us the area to the right of the posterior where the parameter is above 0.5, which is the same as stating where the bias flips in favor of tails to heads. We find that this probability is of 3.54%"
   ]
  }
 ],
 "metadata": {
  "kernelspec": {
   "display_name": "Python 3 (ipykernel)",
   "language": "python",
   "name": "python3"
  },
  "language_info": {
   "codemirror_mode": {
    "name": "ipython",
    "version": 3
   },
   "file_extension": ".py",
   "mimetype": "text/x-python",
   "name": "python",
   "nbconvert_exporter": "python",
   "pygments_lexer": "ipython3",
   "version": "3.8.12"
  }
 },
 "nbformat": 4,
 "nbformat_minor": 5
}
