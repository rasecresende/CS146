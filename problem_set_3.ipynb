{
  "nbformat": 4,
  "nbformat_minor": 0,
  "metadata": {
    "colab": {
      "name": "problem-set-3.ipynb",
      "provenance": [],
      "collapsed_sections": []
    },
    "kernelspec": {
      "name": "python3",
      "display_name": "Python 3"
    },
    "language_info": {
      "name": "python"
    }
  },
  "cells": [
    {
      "cell_type": "markdown",
      "source": [
        "# Posterior Predictive Checks"
      ],
      "metadata": {
        "id": "dfa-8OYm2U2n"
      }
    },
    {
      "cell_type": "code",
      "execution_count": 1,
      "metadata": {
        "id": "TcDeQZi7w2Gd"
      },
      "outputs": [],
      "source": [
        "import numpy as np\n",
        "import matplotlib.pyplot as plt\n",
        "import scipy.stats as sts\n",
        "from scipy.stats import beta\n",
        "import random"
      ]
    },
    {
      "cell_type": "code",
      "source": [
        "# From the notebook, the posterior distribution for the control group is a Beta\n",
        "# with parameters alpha = 58, and beta = 65\n",
        "posterior_samples = sts.beta.rvs(a=58,b=65, size=1000)\n",
        "\n",
        "# Original control data\n",
        "success = [9,11,4, 21, 12, 0]\n",
        "trials = [15,18,10,39,29,10]\n",
        "\n",
        "success_rate = [i / j for i, j in zip(success, trials)]\n",
        "\n",
        "# Generates synthetic data using a binomial for number of successes\n",
        "replicated_samples = []\n",
        "for i in posterior_samples:\n",
        "  sample = [sts.binom(j, i).rvs() for j in trials]\n",
        "  replicated_samples.append(sample)\n",
        "\n",
        "replicated_samples = np.array(replicated_samples)"
      ],
      "metadata": {
        "id": "TET8qRsL2Pvk"
      },
      "execution_count": 2,
      "outputs": []
    },
    {
      "cell_type": "code",
      "source": [
        "# Define our test statistic as the variance \n",
        "def test_statistic(data):\n",
        "  return np.var(data)\n",
        "\n",
        "# apply the test statistic for samples and observed data\n",
        "testing = np.array([test_statistic(i) for i in replicated_samples])\n",
        "observed = test_statistic(success)\n",
        "\n",
        "# plot the histogram\n",
        "plt.title('Variance of successes using non-hierarchical model')\n",
        "plt.hist(testing, edgecolor='black')\n",
        "plt.axvline(observed, color = 'red', label='original data')\n",
        "plt.legend()\n",
        "plt.show()\n",
        "\n",
        "# calculate p-value\n",
        "p_value = sum(testing > test_statistic(success)) / len(testing)\n",
        "print(\"P-value:\", p_value)"
      ],
      "metadata": {
        "id": "jSqXRupXqQiv",
        "colab": {
          "base_uri": "https://localhost:8080/",
          "height": 300
        },
        "outputId": "3c7007b9-af87-4f1d-f3da-fb1adab62c8e"
      },
      "execution_count": 3,
      "outputs": [
        {
          "output_type": "display_data",
          "data": {
            "text/plain": [
              "<Figure size 432x288 with 1 Axes>"
            ],
            "image/png": "[encoded data removed]"
          },
          "metadata": {
            "needs_background": "light"
          }
        },
        {
          "output_type": "stream",
          "name": "stdout",
          "text": [
            "P-value: 0.119\n"
          ]
        }
      ]
    },
    {
      "cell_type": "markdown",
      "source": [
        "The proportion of variance values in the replicated dataset is 11.5% greater than the original observed data. We can see that the non-hiearchical model does not explain the control group well since our p-value is greater than 0.05."
      ],
      "metadata": {
        "id": "mHhotiRbESuq"
      }
    }
  ]
}