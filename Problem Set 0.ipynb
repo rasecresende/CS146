{
 "cells": [
  {
   "cell_type": "code",
   "execution_count": 9,
   "id": "1a5452a2-11c3-4833-827e-669286aa6809",
   "metadata": {},
   "outputs": [
    {
     "data": {
      "text/plain": [
       "0.23064491303678616"
      ]
     },
     "execution_count": 9,
     "metadata": {},
     "output_type": "execute_result"
    }
   ],
   "source": [
    "(0.999*0.0003) / (0.999 * 0.0003 + 0.001*0.9997) "
   ]
  },
  {
   "cell_type": "code",
   "execution_count": 10,
   "id": "7cc59638-a067-43c3-9b25-2d6c20f51975",
   "metadata": {},
   "outputs": [
    {
     "data": {
      "text/plain": [
       "0.9090909090909091"
      ]
     },
     "execution_count": 10,
     "metadata": {},
     "output_type": "execute_result"
    }
   ],
   "source": [
    "10/11"
   ]
  },
  {
   "cell_type": "code",
   "execution_count": 17,
   "id": "d6e26f14-eb07-4dd7-b827-eb71f4619070",
   "metadata": {},
   "outputs": [
    {
     "name": "stdout",
     "output_type": "stream",
     "text": [
      "Base e: 2.3025850929940455\n",
      "Base 2: 3.3219280948873617\n",
      "Base 10: 0.9999999999999999\n"
     ]
    }
   ],
   "source": [
    "import numpy as np\n",
    "\n",
    "def logit(p):\n",
    "    print(\"Base e:\", np.log(p/(1-p)))\n",
    "    print(\"Base 2:\", np.log2(p/(1-p)))\n",
    "    print(\"Base 10:\", np.log10(p/(1-p)))\n",
    "    \n",
    "logit(10/11)"
   ]
  },
  {
   "cell_type": "code",
   "execution_count": 20,
   "id": "63e119ae-de6c-4446-8f56-0a56f2c8d332",
   "metadata": {},
   "outputs": [
    {
     "data": {
      "text/plain": [
       "0.999000999000999"
      ]
     },
     "execution_count": 20,
     "metadata": {},
     "output_type": "execute_result"
    }
   ],
   "source": [
    "1000/1001"
   ]
  },
  {
   "cell_type": "code",
   "execution_count": 19,
   "id": "177f14a6-ca92-43e4-baa0-2ef999aeafd6",
   "metadata": {},
   "outputs": [
    {
     "name": "stdout",
     "output_type": "stream",
     "text": [
      "Base e: 4.605170185988091\n",
      "Base 2: 6.6438561897747235\n",
      "Base 10: 1.9999999999999996\n"
     ]
    }
   ],
   "source": [
    "logit(100/101)"
   ]
  },
  {
   "cell_type": "code",
   "execution_count": 21,
   "id": "daa1bfdf-b52c-488d-bcc0-39e0ba33bf07",
   "metadata": {},
   "outputs": [
    {
     "name": "stdout",
     "output_type": "stream",
     "text": [
      "Base e: 6.907755278982171\n",
      "Base 2: 9.965784284662137\n",
      "Base 10: 3.0000000000000147\n"
     ]
    }
   ],
   "source": [
    "logit(1000/1001)"
   ]
  },
  {
   "cell_type": "code",
   "execution_count": 22,
   "id": "83709cc3-e7c1-489e-864c-deb90dd66fad",
   "metadata": {},
   "outputs": [
    {
     "data": {
      "text/plain": [
       "1.4426950408889636"
      ]
     },
     "execution_count": 22,
     "metadata": {},
     "output_type": "execute_result"
    }
   ],
   "source": [
    "9.965784284662137 / 6.907755278982171"
   ]
  },
  {
   "cell_type": "code",
   "execution_count": 23,
   "id": "cfbea9e7-efee-493d-a7d9-4416be41ee66",
   "metadata": {},
   "outputs": [
    {
     "data": {
      "text/plain": [
       "1.4426950408889634"
      ]
     },
     "execution_count": 23,
     "metadata": {},
     "output_type": "execute_result"
    }
   ],
   "source": [
    "6.6438561897747235 / 4.605170185988091"
   ]
  },
  {
   "cell_type": "code",
   "execution_count": 47,
   "id": "c6eb4a55-ea18-45c0-b350-2b5dc2a24afd",
   "metadata": {},
   "outputs": [
    {
     "data": {
      "image/png": "[encoded data removed]",
      "text/plain": [
       "<Figure size 432x288 with 1 Axes>"
      ]
     },
     "metadata": {
      "needs_background": "light"
     },
     "output_type": "display_data"
    },
    {
     "name": "stdout",
     "output_type": "stream",
     "text": [
      "0.28142247214412164%\n"
     ]
    }
   ],
   "source": [
    "import random\n",
    "import matplotlib.pyplot as plt\n",
    "import math\n",
    "\n",
    "boxes = []\n",
    "for i in range(101):\n",
    "    boxes.append(i)\n",
    "    \n",
    "picks = random.sample(boxes, 5)\n",
    "\n",
    "plt.hist(picks)\n",
    "plt.show()\n",
    "\n",
    "pmf = (math.factorial(49)/(math.factorial(4)*math.factorial(49-4))) / (math.factorial(100)/(math.factorial(5)*math.factorial(100-5)))\n",
    "\n",
    "print(f'{pmf*100}%')"
   ]
  },
  {
   "cell_type": "code",
   "execution_count": null,
   "id": "9555ddf3-2927-4a98-9928-8cf7d9618e95",
   "metadata": {},
   "outputs": [],
   "source": []
  },
  {
   "cell_type": "code",
   "execution_count": null,
   "id": "5cf4b234-2ce4-4d1b-a174-3292dcbbdb98",
   "metadata": {},
   "outputs": [],
   "source": []
  }
 ],
 "metadata": {
  "kernelspec": {
   "display_name": "Python 3 (ipykernel)",
   "language": "python",
   "name": "python3"
  },
  "language_info": {
   "codemirror_mode": {
    "name": "ipython",
    "version": 3
   },
   "file_extension": ".py",
   "mimetype": "text/x-python",
   "name": "python",
   "nbconvert_exporter": "python",
   "pygments_lexer": "ipython3",
   "version": "3.8.12"
  }
 },
 "nbformat": 4,
 "nbformat_minor": 5
}
