{
  "cells": [
    {
      "cell_type": "markdown",
      "id": "1005607a-a87a-42f2-ae9c-af5a6ba527dd",
      "metadata": {
        "id": "1005607a-a87a-42f2-ae9c-af5a6ba527dd"
      },
      "source": [
        "# Pre-processing Data"
      ]
    },
    {
      "cell_type": "code",
      "execution_count": 1,
      "id": "58481755-a972-4096-b86b-c7a3b17b909f",
      "metadata": {
        "id": "58481755-a972-4096-b86b-c7a3b17b909f"
      },
      "outputs": [],
      "source": [
        "import numpy as np\n",
        "import pandas as pd\n",
        "import matplotlib.pyplot as plt\n",
        "import pystan\n",
        "import scipy.stats as sts\n",
        "import seaborn as sns\n",
        "sns.set()"
      ]
    },
    {
      "cell_type": "code",
      "source": [
        "#from google.colab import files\n",
        "#uploaded = files.upload()"
      ],
      "metadata": {
        "id": "JFKJ757uj7i8"
      },
      "id": "JFKJ757uj7i8",
      "execution_count": 2,
      "outputs": []
    },
    {
      "cell_type": "code",
      "execution_count": 3,
      "id": "214197b6-7c3e-43af-a5b3-a04caebb3a8e",
      "metadata": {
        "colab": {
          "base_uri": "https://localhost:8080/",
          "height": 612
        },
        "id": "214197b6-7c3e-43af-a5b3-a04caebb3a8e",
        "outputId": "335ea6f4-b363-426f-8df0-84a27c1c30ff"
      },
      "outputs": [
        {
          "output_type": "execute_result",
          "data": {
            "text/plain": [
              "          Timestamp                      Email Address           Your name  \\\n",
              "0  10/22/2021 13:24  andriy.kashyrskyy@uni.minerva.edu   Andriy Kashyrskyy   \n",
              "1  10/22/2021 13:04  andriy.kashyrskyy@uni.minerva.edu  Andriy Kashyrskyy    \n",
              "2  10/24/2021 16:05         felipehlvo@uni.minerva.edu     Felipe Oliveira   \n",
              "3  10/24/2021 16:15         felipehlvo@uni.minerva.edu     Felipe Oliveira   \n",
              "4  10/24/2021 22:14           jeongwoo@uni.minerva.edu      Jeong woo Park   \n",
              "\n",
              "  Country where you (and the grocery store) are Currency (e.g. EUR, GBP, USD)  \\\n",
              "0                                       Germany                           EUR   \n",
              "1                                       Germany                           EUR   \n",
              "2                                       Germany                           EUR   \n",
              "3                                       Germany                           EUR   \n",
              "4                                         Seoul                    Korean Won   \n",
              "\n",
              "  Grocery store name and street address (or URL if shopping online)  \\\n",
              "0             Lidl, Charlottenstraße 2, 10969 Berlin                  \n",
              "1              Lidl, Leipziger Str. 42, 10117 Berlin                  \n",
              "2                           EDEKA, Kottbusser Damm 5                  \n",
              "3                         EDEKA, Pannierstr. 37 - 38                  \n",
              "4            롯데마트(lotte mart), 서울특별시 중구 회현동 한강대로 405                  \n",
              "\n",
              "  Price perception of the store brand  \\\n",
              "0                      Budget (cheap)   \n",
              "1                      Budget (cheap)   \n",
              "2                           Mid-range   \n",
              "3                           Mid-range   \n",
              "4                           Mid-range   \n",
              "\n",
              "         Average rental price near the grocery store  Product 1 quantity (kg)  \\\n",
              "0                                             826.00                      2.0   \n",
              "1                                            1090.00                      1.0   \n",
              "2                                             924.00                      1.0   \n",
              "3                                             941.00                      1.0   \n",
              "4  74.31USD(87500KW) per meter square. (evidence:...                      0.1   \n",
              "\n",
              "   Product 1 price  ...  Product 2 quantity (count)  Product 2 price.8  \\\n",
              "0             2.22  ...                         6.0               1.99   \n",
              "1             1.99  ...                        10.0               2.99   \n",
              "2             2.99  ...                        10.0               1.59   \n",
              "3             2.99  ...                         6.0               2.49   \n",
              "4             0.40  ...                         1.0               0.36   \n",
              "\n",
              "   Product 3 quantity (count)  Product 3 price.8  Product 1 quantity (kg).7  \\\n",
              "0                        10.0              1.990                        0.6   \n",
              "1                        10.0              1.990                        0.4   \n",
              "2                         6.0              1.990                        1.0   \n",
              "3                        10.0              2.790                        1.0   \n",
              "4                         1.0              0.282                        0.1   \n",
              "\n",
              "   Product 1 price.9  Product 2 quantity (kg).7  Product 2 price.9  \\\n",
              "0               4.49                        1.0               6.79   \n",
              "1               2.79                        0.4               3.49   \n",
              "2              29.90                        1.0              24.99   \n",
              "3               7.48                        NaN                NaN   \n",
              "4               0.62                        0.1               1.25   \n",
              "\n",
              "   Product 3 quantity (kg).7  Product 3 price.9  \n",
              "0                       0.40               3.49  \n",
              "1                       0.35               7.00  \n",
              "2                       1.00              14.90  \n",
              "3                        NaN                NaN  \n",
              "4                       0.10               1.38  \n",
              "\n",
              "[5 rows x 68 columns]"
            ],
            "text/html": [
              "\n",
              "  <div id=\"df-ce51d792-c1cb-45d0-95ef-e73c4baf30ce\">\n",
              "    <div class=\"colab-df-container\">\n",
              "      <div>\n",
              "<style scoped>\n",
              "    .dataframe tbody tr th:only-of-type {\n",
              "        vertical-align: middle;\n",
              "    }\n",
              "\n",
              "    .dataframe tbody tr th {\n",
              "        vertical-align: top;\n",
              "    }\n",
              "\n",
              "    .dataframe thead th {\n",
              "        text-align: right;\n",
              "    }\n",
              "</style>\n",
              "<table border=\"1\" class=\"dataframe\">\n",
              "  <thead>\n",
              "    <tr style=\"text-align: right;\">\n",
              "      <th></th>\n",
              "      <th>Timestamp</th>\n",
              "      <th>Email Address</th>\n",
              "      <th>Your name</th>\n",
              "      <th>Country where you (and the grocery store) are</th>\n",
              "      <th>Currency (e.g. EUR, GBP, USD)</th>\n",
              "      <th>Grocery store name and street address (or URL if shopping online)</th>\n",
              "      <th>Price perception of the store brand</th>\n",
              "      <th>Average rental price near the grocery store</th>\n",
              "      <th>Product 1 quantity (kg)</th>\n",
              "      <th>Product 1 price</th>\n",
              "      <th>...</th>\n",
              "      <th>Product 2 quantity (count)</th>\n",
              "      <th>Product 2 price.8</th>\n",
              "      <th>Product 3 quantity (count)</th>\n",
              "      <th>Product 3 price.8</th>\n",
              "      <th>Product 1 quantity (kg).7</th>\n",
              "      <th>Product 1 price.9</th>\n",
              "      <th>Product 2 quantity (kg).7</th>\n",
              "      <th>Product 2 price.9</th>\n",
              "      <th>Product 3 quantity (kg).7</th>\n",
              "      <th>Product 3 price.9</th>\n",
              "    </tr>\n",
              "  </thead>\n",
              "  <tbody>\n",
              "    <tr>\n",
              "      <th>0</th>\n",
              "      <td>10/22/2021 13:24</td>\n",
              "      <td>andriy.kashyrskyy@uni.minerva.edu</td>\n",
              "      <td>Andriy Kashyrskyy</td>\n",
              "      <td>Germany</td>\n",
              "      <td>EUR</td>\n",
              "      <td>Lidl, Charlottenstraße 2, 10969 Berlin</td>\n",
              "      <td>Budget (cheap)</td>\n",
              "      <td>826.00</td>\n",
              "      <td>2.0</td>\n",
              "      <td>2.22</td>\n",
              "      <td>...</td>\n",
              "      <td>6.0</td>\n",
              "      <td>1.99</td>\n",
              "      <td>10.0</td>\n",
              "      <td>1.990</td>\n",
              "      <td>0.6</td>\n",
              "      <td>4.49</td>\n",
              "      <td>1.0</td>\n",
              "      <td>6.79</td>\n",
              "      <td>0.40</td>\n",
              "      <td>3.49</td>\n",
              "    </tr>\n",
              "    <tr>\n",
              "      <th>1</th>\n",
              "      <td>10/22/2021 13:04</td>\n",
              "      <td>andriy.kashyrskyy@uni.minerva.edu</td>\n",
              "      <td>Andriy Kashyrskyy</td>\n",
              "      <td>Germany</td>\n",
              "      <td>EUR</td>\n",
              "      <td>Lidl, Leipziger Str. 42, 10117 Berlin</td>\n",
              "      <td>Budget (cheap)</td>\n",
              "      <td>1090.00</td>\n",
              "      <td>1.0</td>\n",
              "      <td>1.99</td>\n",
              "      <td>...</td>\n",
              "      <td>10.0</td>\n",
              "      <td>2.99</td>\n",
              "      <td>10.0</td>\n",
              "      <td>1.990</td>\n",
              "      <td>0.4</td>\n",
              "      <td>2.79</td>\n",
              "      <td>0.4</td>\n",
              "      <td>3.49</td>\n",
              "      <td>0.35</td>\n",
              "      <td>7.00</td>\n",
              "    </tr>\n",
              "    <tr>\n",
              "      <th>2</th>\n",
              "      <td>10/24/2021 16:05</td>\n",
              "      <td>felipehlvo@uni.minerva.edu</td>\n",
              "      <td>Felipe Oliveira</td>\n",
              "      <td>Germany</td>\n",
              "      <td>EUR</td>\n",
              "      <td>EDEKA, Kottbusser Damm 5</td>\n",
              "      <td>Mid-range</td>\n",
              "      <td>924.00</td>\n",
              "      <td>1.0</td>\n",
              "      <td>2.99</td>\n",
              "      <td>...</td>\n",
              "      <td>10.0</td>\n",
              "      <td>1.59</td>\n",
              "      <td>6.0</td>\n",
              "      <td>1.990</td>\n",
              "      <td>1.0</td>\n",
              "      <td>29.90</td>\n",
              "      <td>1.0</td>\n",
              "      <td>24.99</td>\n",
              "      <td>1.00</td>\n",
              "      <td>14.90</td>\n",
              "    </tr>\n",
              "    <tr>\n",
              "      <th>3</th>\n",
              "      <td>10/24/2021 16:15</td>\n",
              "      <td>felipehlvo@uni.minerva.edu</td>\n",
              "      <td>Felipe Oliveira</td>\n",
              "      <td>Germany</td>\n",
              "      <td>EUR</td>\n",
              "      <td>EDEKA, Pannierstr. 37 - 38</td>\n",
              "      <td>Mid-range</td>\n",
              "      <td>941.00</td>\n",
              "      <td>1.0</td>\n",
              "      <td>2.99</td>\n",
              "      <td>...</td>\n",
              "      <td>6.0</td>\n",
              "      <td>2.49</td>\n",
              "      <td>10.0</td>\n",
              "      <td>2.790</td>\n",
              "      <td>1.0</td>\n",
              "      <td>7.48</td>\n",
              "      <td>NaN</td>\n",
              "      <td>NaN</td>\n",
              "      <td>NaN</td>\n",
              "      <td>NaN</td>\n",
              "    </tr>\n",
              "    <tr>\n",
              "      <th>4</th>\n",
              "      <td>10/24/2021 22:14</td>\n",
              "      <td>jeongwoo@uni.minerva.edu</td>\n",
              "      <td>Jeong woo Park</td>\n",
              "      <td>Seoul</td>\n",
              "      <td>Korean Won</td>\n",
              "      <td>롯데마트(lotte mart), 서울특별시 중구 회현동 한강대로 405</td>\n",
              "      <td>Mid-range</td>\n",
              "      <td>74.31USD(87500KW) per meter square. (evidence:...</td>\n",
              "      <td>0.1</td>\n",
              "      <td>0.40</td>\n",
              "      <td>...</td>\n",
              "      <td>1.0</td>\n",
              "      <td>0.36</td>\n",
              "      <td>1.0</td>\n",
              "      <td>0.282</td>\n",
              "      <td>0.1</td>\n",
              "      <td>0.62</td>\n",
              "      <td>0.1</td>\n",
              "      <td>1.25</td>\n",
              "      <td>0.10</td>\n",
              "      <td>1.38</td>\n",
              "    </tr>\n",
              "  </tbody>\n",
              "</table>\n",
              "<p>5 rows × 68 columns</p>\n",
              "</div>\n",
              "      <button class=\"colab-df-convert\" onclick=\"convertToInteractive('df-ce51d792-c1cb-45d0-95ef-e73c4baf30ce')\"\n",
              "              title=\"Convert this dataframe to an interactive table.\"\n",
              "              style=\"display:none;\">\n",
              "        \n",
              "  <svg xmlns=\"http://www.w3.org/2000/svg\" height=\"24px\"viewBox=\"0 0 24 24\"\n",
              "       width=\"24px\">\n",
              "    <path d=\"M0 0h24v24H0V0z\" fill=\"none\"/>\n",
              "    <path d=\"M18.56 5.44l.94 2.06.94-2.06 2.06-.94-2.06-.94-.94-2.06-.94 2.06-2.06.94zm-11 1L8.5 8.5l.94-2.06 2.06-.94-2.06-.94L8.5 2.5l-.94 2.06-2.06.94zm10 10l.94 2.06.94-2.06 2.06-.94-2.06-.94-.94-2.06-.94 2.06-2.06.94z\"/><path d=\"M17.41 7.96l-1.37-1.37c-.4-.4-.92-.59-1.43-.59-.52 0-1.04.2-1.43.59L10.3 9.45l-7.72 7.72c-.78.78-.78 2.05 0 2.83L4 21.41c.39.39.9.59 1.41.59.51 0 1.02-.2 1.41-.59l7.78-7.78 2.81-2.81c.8-.78.8-2.07 0-2.86zM5.41 20L4 18.59l7.72-7.72 1.47 1.35L5.41 20z\"/>\n",
              "  </svg>\n",
              "      </button>\n",
              "      \n",
              "  <style>\n",
              "    .colab-df-container {\n",
              "      display:flex;\n",
              "      flex-wrap:wrap;\n",
              "      gap: 12px;\n",
              "    }\n",
              "\n",
              "    .colab-df-convert {\n",
              "      background-color: #E8F0FE;\n",
              "      border: none;\n",
              "      border-radius: 50%;\n",
              "      cursor: pointer;\n",
              "      display: none;\n",
              "      fill: #1967D2;\n",
              "      height: 32px;\n",
              "      padding: 0 0 0 0;\n",
              "      width: 32px;\n",
              "    }\n",
              "\n",
              "    .colab-df-convert:hover {\n",
              "      background-color: #E2EBFA;\n",
              "      box-shadow: 0px 1px 2px rgba(60, 64, 67, 0.3), 0px 1px 3px 1px rgba(60, 64, 67, 0.15);\n",
              "      fill: #174EA6;\n",
              "    }\n",
              "\n",
              "    [theme=dark] .colab-df-convert {\n",
              "      background-color: #3B4455;\n",
              "      fill: #D2E3FC;\n",
              "    }\n",
              "\n",
              "    [theme=dark] .colab-df-convert:hover {\n",
              "      background-color: #434B5C;\n",
              "      box-shadow: 0px 1px 3px 1px rgba(0, 0, 0, 0.15);\n",
              "      filter: drop-shadow(0px 1px 2px rgba(0, 0, 0, 0.3));\n",
              "      fill: #FFFFFF;\n",
              "    }\n",
              "  </style>\n",
              "\n",
              "      <script>\n",
              "        const buttonEl =\n",
              "          document.querySelector('#df-ce51d792-c1cb-45d0-95ef-e73c4baf30ce button.colab-df-convert');\n",
              "        buttonEl.style.display =\n",
              "          google.colab.kernel.accessAllowed ? 'block' : 'none';\n",
              "\n",
              "        async function convertToInteractive(key) {\n",
              "          const element = document.querySelector('#df-ce51d792-c1cb-45d0-95ef-e73c4baf30ce');\n",
              "          const dataTable =\n",
              "            await google.colab.kernel.invokeFunction('convertToInteractive',\n",
              "                                                     [key], {});\n",
              "          if (!dataTable) return;\n",
              "\n",
              "          const docLinkHtml = 'Like what you see? Visit the ' +\n",
              "            '<a target=\"_blank\" href=https://colab.research.google.com/notebooks/data_table.ipynb>data table notebook</a>'\n",
              "            + ' to learn more about interactive tables.';\n",
              "          element.innerHTML = '';\n",
              "          dataTable['output_type'] = 'display_data';\n",
              "          await google.colab.output.renderOutput(dataTable, element);\n",
              "          const docLink = document.createElement('div');\n",
              "          docLink.innerHTML = docLinkHtml;\n",
              "          element.appendChild(docLink);\n",
              "        }\n",
              "      </script>\n",
              "    </div>\n",
              "  </div>\n",
              "  "
            ]
          },
          "metadata": {},
          "execution_count": 3
        }
      ],
      "source": [
        "df = pd.read_csv('CS146 LBA data gathering (Fall 2021) (Responses) - Form Responses 1.csv', thousands=',')\n",
        "df.head()"
      ]
    },
    {
      "cell_type": "code",
      "execution_count": 4,
      "id": "3ff6579a-af7f-4400-800c-4f4b38ee7200",
      "metadata": {
        "id": "3ff6579a-af7f-4400-800c-4f4b38ee7200"
      },
      "outputs": [],
      "source": [
        "# drop columns that we don't need\n",
        "df = df.drop(['Timestamp', 'Email Address', 'Your name'], axis=1)\n",
        "\n",
        "# drop noisy rows\n",
        "df = df.drop([4]).reset_index(drop=True)\n",
        "\n",
        "# divide price by quantity to get the unit price fore each item\n",
        "for column in range(5, len(df.columns)-1, 2):\n",
        "    df.iloc[:,column+1] = df.iloc[:, column+1]/df.iloc[:, column]\n",
        "\n",
        "# change rent to int\n",
        "df['Average rental price near the grocery store'] = pd.to_numeric(df['Average rental price near the grocery store'])    "
      ]
    },
    {
      "cell_type": "code",
      "execution_count": 5,
      "id": "ff8256c6-53ae-4b62-b121-e1fadadc2935",
      "metadata": {
        "colab": {
          "base_uri": "https://localhost:8080/"
        },
        "id": "ff8256c6-53ae-4b62-b121-e1fadadc2935",
        "outputId": "2f724a45-c71f-4ebd-edcc-d39098b97d93"
      },
      "outputs": [
        {
          "output_type": "stream",
          "name": "stderr",
          "text": [
            "/usr/local/lib/python3.7/dist-packages/pandas/core/indexing.py:1732: SettingWithCopyWarning: \n",
            "A value is trying to be set on a copy of a slice from a DataFrame\n",
            "\n",
            "See the caveats in the documentation: https://pandas.pydata.org/pandas-docs/stable/user_guide/indexing.html#returning-a-view-versus-a-copy\n",
            "  self._setitem_single_block(indexer, value, name)\n"
          ]
        }
      ],
      "source": [
        "# change different denominations of countries to be the same\n",
        "for i in range(len(df['Country where you (and the grocery store) are'])):\n",
        "    if df['Country where you (and the grocery store) are'].loc[i] in ['Germany', 'Berlin, Germany',\n",
        "                                                                      'Berlin, Germany ','Germany ','Berlin',\n",
        "                                                                      'Berlin ']:\n",
        "        df['Country where you (and the grocery store) are'].loc[i] = 'Germany'\n",
        "        \n",
        "    if df['Country where you (and the grocery store) are'].loc[i] in ['London','United Kingdom ','United Kingdom',\n",
        "                                                                     'UK','United Kindom', ]:\n",
        "        df['Country where you (and the grocery store) are'].loc[i] = 'UK'\n",
        "    else:\n",
        "        continue\n",
        "\n",
        "# conversion rate anchored on dollar\n",
        "currency_rates = {\"USD\": 1, \"GBP\": 0.76, \"EUR\": 0.91}\n",
        "\n",
        "# creates a column for exchange rate of each country \n",
        "df['Exchange rate'] = 0\n",
        "row = 0\n",
        "for i in df['Currency (e.g. EUR, GBP, USD)']:\n",
        "    rate = currency_rates[i]\n",
        "    df['Exchange rate'].loc[row] = rate\n",
        "    row +=1\n",
        "    \n",
        "# multiply every price column by the exchange rate \n",
        "for column in range(4, len(df.columns)):\n",
        "    df.iloc[:, column] = df.iloc[:, column]*df.iloc[:, len(df.columns)-1]"
      ]
    },
    {
      "cell_type": "code",
      "execution_count": 6,
      "id": "53b5f137-29c3-4bc7-8081-1dda02ffaa91",
      "metadata": {
        "id": "53b5f137-29c3-4bc7-8081-1dda02ffaa91"
      },
      "outputs": [],
      "source": [
        "# separate the columns we are interested in\n",
        "new_cols = [['country', 'rent', 'category', 'product', 'price']]\n",
        "\n",
        "# list all of the products\n",
        "products = ['Apples','Bananas','Tomatoes','Potatoes','Flour, white',\n",
        "            'Rice, basmati','Milk, full cream','Butter','Eggs','Chicken breasts']\n",
        "\n",
        "# have each product datapoint be a row\n",
        "for i in range(df.shape[0]*30):\n",
        "    product = products[i // 3 % 10]\n",
        "    new_cols.append([df.iloc[i//30]['Country where you (and the grocery store) are'],\n",
        "                     df.iloc[i//30]['Average rental price near the grocery store'],\n",
        "                     df.iloc[i//30]['Price perception of the store brand'],\n",
        "                     product, df.iloc[i//30][i%30*2 + 6]])\n",
        "    \n",
        "# create a new dataframe based on our data filtering\n",
        "df = pd.DataFrame(new_cols[1:],columns=new_cols[0]) "
      ]
    },
    {
      "cell_type": "code",
      "execution_count": 7,
      "id": "193e1ca2-0a29-471b-944a-a494771de1c8",
      "metadata": {
        "colab": {
          "base_uri": "https://localhost:8080/",
          "height": 206
        },
        "id": "193e1ca2-0a29-471b-944a-a494771de1c8",
        "outputId": "7363ca36-f092-4a40-a0fa-2a5cbe373c06"
      },
      "outputs": [
        {
          "output_type": "execute_result",
          "data": {
            "text/plain": [
              "   country    rent        category  product   price\n",
              "0  Germany  751.66  Budget (cheap)   Apples  1.0101\n",
              "1  Germany  751.66  Budget (cheap)   Apples  2.7209\n",
              "2  Germany  751.66  Budget (cheap)   Apples  1.3559\n",
              "3  Germany  751.66  Budget (cheap)  Bananas  3.5490\n",
              "4  Germany  751.66  Budget (cheap)  Bananas  1.4469"
            ],
            "text/html": [
              "\n",
              "  <div id=\"df-d3a03dcf-02f0-4a7a-89db-f917dc79d754\">\n",
              "    <div class=\"colab-df-container\">\n",
              "      <div>\n",
              "<style scoped>\n",
              "    .dataframe tbody tr th:only-of-type {\n",
              "        vertical-align: middle;\n",
              "    }\n",
              "\n",
              "    .dataframe tbody tr th {\n",
              "        vertical-align: top;\n",
              "    }\n",
              "\n",
              "    .dataframe thead th {\n",
              "        text-align: right;\n",
              "    }\n",
              "</style>\n",
              "<table border=\"1\" class=\"dataframe\">\n",
              "  <thead>\n",
              "    <tr style=\"text-align: right;\">\n",
              "      <th></th>\n",
              "      <th>country</th>\n",
              "      <th>rent</th>\n",
              "      <th>category</th>\n",
              "      <th>product</th>\n",
              "      <th>price</th>\n",
              "    </tr>\n",
              "  </thead>\n",
              "  <tbody>\n",
              "    <tr>\n",
              "      <th>0</th>\n",
              "      <td>Germany</td>\n",
              "      <td>751.66</td>\n",
              "      <td>Budget (cheap)</td>\n",
              "      <td>Apples</td>\n",
              "      <td>1.0101</td>\n",
              "    </tr>\n",
              "    <tr>\n",
              "      <th>1</th>\n",
              "      <td>Germany</td>\n",
              "      <td>751.66</td>\n",
              "      <td>Budget (cheap)</td>\n",
              "      <td>Apples</td>\n",
              "      <td>2.7209</td>\n",
              "    </tr>\n",
              "    <tr>\n",
              "      <th>2</th>\n",
              "      <td>Germany</td>\n",
              "      <td>751.66</td>\n",
              "      <td>Budget (cheap)</td>\n",
              "      <td>Apples</td>\n",
              "      <td>1.3559</td>\n",
              "    </tr>\n",
              "    <tr>\n",
              "      <th>3</th>\n",
              "      <td>Germany</td>\n",
              "      <td>751.66</td>\n",
              "      <td>Budget (cheap)</td>\n",
              "      <td>Bananas</td>\n",
              "      <td>3.5490</td>\n",
              "    </tr>\n",
              "    <tr>\n",
              "      <th>4</th>\n",
              "      <td>Germany</td>\n",
              "      <td>751.66</td>\n",
              "      <td>Budget (cheap)</td>\n",
              "      <td>Bananas</td>\n",
              "      <td>1.4469</td>\n",
              "    </tr>\n",
              "  </tbody>\n",
              "</table>\n",
              "</div>\n",
              "      <button class=\"colab-df-convert\" onclick=\"convertToInteractive('df-d3a03dcf-02f0-4a7a-89db-f917dc79d754')\"\n",
              "              title=\"Convert this dataframe to an interactive table.\"\n",
              "              style=\"display:none;\">\n",
              "        \n",
              "  <svg xmlns=\"http://www.w3.org/2000/svg\" height=\"24px\"viewBox=\"0 0 24 24\"\n",
              "       width=\"24px\">\n",
              "    <path d=\"M0 0h24v24H0V0z\" fill=\"none\"/>\n",
              "    <path d=\"M18.56 5.44l.94 2.06.94-2.06 2.06-.94-2.06-.94-.94-2.06-.94 2.06-2.06.94zm-11 1L8.5 8.5l.94-2.06 2.06-.94-2.06-.94L8.5 2.5l-.94 2.06-2.06.94zm10 10l.94 2.06.94-2.06 2.06-.94-2.06-.94-.94-2.06-.94 2.06-2.06.94z\"/><path d=\"M17.41 7.96l-1.37-1.37c-.4-.4-.92-.59-1.43-.59-.52 0-1.04.2-1.43.59L10.3 9.45l-7.72 7.72c-.78.78-.78 2.05 0 2.83L4 21.41c.39.39.9.59 1.41.59.51 0 1.02-.2 1.41-.59l7.78-7.78 2.81-2.81c.8-.78.8-2.07 0-2.86zM5.41 20L4 18.59l7.72-7.72 1.47 1.35L5.41 20z\"/>\n",
              "  </svg>\n",
              "      </button>\n",
              "      \n",
              "  <style>\n",
              "    .colab-df-container {\n",
              "      display:flex;\n",
              "      flex-wrap:wrap;\n",
              "      gap: 12px;\n",
              "    }\n",
              "\n",
              "    .colab-df-convert {\n",
              "      background-color: #E8F0FE;\n",
              "      border: none;\n",
              "      border-radius: 50%;\n",
              "      cursor: pointer;\n",
              "      display: none;\n",
              "      fill: #1967D2;\n",
              "      height: 32px;\n",
              "      padding: 0 0 0 0;\n",
              "      width: 32px;\n",
              "    }\n",
              "\n",
              "    .colab-df-convert:hover {\n",
              "      background-color: #E2EBFA;\n",
              "      box-shadow: 0px 1px 2px rgba(60, 64, 67, 0.3), 0px 1px 3px 1px rgba(60, 64, 67, 0.15);\n",
              "      fill: #174EA6;\n",
              "    }\n",
              "\n",
              "    [theme=dark] .colab-df-convert {\n",
              "      background-color: #3B4455;\n",
              "      fill: #D2E3FC;\n",
              "    }\n",
              "\n",
              "    [theme=dark] .colab-df-convert:hover {\n",
              "      background-color: #434B5C;\n",
              "      box-shadow: 0px 1px 3px 1px rgba(0, 0, 0, 0.15);\n",
              "      filter: drop-shadow(0px 1px 2px rgba(0, 0, 0, 0.3));\n",
              "      fill: #FFFFFF;\n",
              "    }\n",
              "  </style>\n",
              "\n",
              "      <script>\n",
              "        const buttonEl =\n",
              "          document.querySelector('#df-d3a03dcf-02f0-4a7a-89db-f917dc79d754 button.colab-df-convert');\n",
              "        buttonEl.style.display =\n",
              "          google.colab.kernel.accessAllowed ? 'block' : 'none';\n",
              "\n",
              "        async function convertToInteractive(key) {\n",
              "          const element = document.querySelector('#df-d3a03dcf-02f0-4a7a-89db-f917dc79d754');\n",
              "          const dataTable =\n",
              "            await google.colab.kernel.invokeFunction('convertToInteractive',\n",
              "                                                     [key], {});\n",
              "          if (!dataTable) return;\n",
              "\n",
              "          const docLinkHtml = 'Like what you see? Visit the ' +\n",
              "            '<a target=\"_blank\" href=https://colab.research.google.com/notebooks/data_table.ipynb>data table notebook</a>'\n",
              "            + ' to learn more about interactive tables.';\n",
              "          element.innerHTML = '';\n",
              "          dataTable['output_type'] = 'display_data';\n",
              "          await google.colab.output.renderOutput(dataTable, element);\n",
              "          const docLink = document.createElement('div');\n",
              "          docLink.innerHTML = docLinkHtml;\n",
              "          element.appendChild(docLink);\n",
              "        }\n",
              "      </script>\n",
              "    </div>\n",
              "  </div>\n",
              "  "
            ]
          },
          "metadata": {},
          "execution_count": 7
        }
      ],
      "source": [
        "df.head()"
      ]
    },
    {
      "cell_type": "code",
      "source": [
        "df.describe()"
      ],
      "metadata": {
        "colab": {
          "base_uri": "https://localhost:8080/",
          "height": 300
        },
        "id": "CHMrFFzquK61",
        "outputId": "bd796749-c753-4daf-eb2c-f9c6adb7b34b"
      },
      "id": "CHMrFFzquK61",
      "execution_count": 8,
      "outputs": [
        {
          "output_type": "execute_result",
          "data": {
            "text/plain": [
              "              rent        price\n",
              "count  1470.000000  1300.000000\n",
              "mean   1153.895306     3.343647\n",
              "std     648.873274     8.753750\n",
              "min       0.000000     0.091960\n",
              "25%     785.330000     0.836000\n",
              "50%     856.310000     1.810900\n",
              "75%    1634.000000     4.422222\n",
              "max    3395.000000   291.080000"
            ],
            "text/html": [
              "\n",
              "  <div id=\"df-e3929015-9cb6-4647-b39d-51e2135247aa\">\n",
              "    <div class=\"colab-df-container\">\n",
              "      <div>\n",
              "<style scoped>\n",
              "    .dataframe tbody tr th:only-of-type {\n",
              "        vertical-align: middle;\n",
              "    }\n",
              "\n",
              "    .dataframe tbody tr th {\n",
              "        vertical-align: top;\n",
              "    }\n",
              "\n",
              "    .dataframe thead th {\n",
              "        text-align: right;\n",
              "    }\n",
              "</style>\n",
              "<table border=\"1\" class=\"dataframe\">\n",
              "  <thead>\n",
              "    <tr style=\"text-align: right;\">\n",
              "      <th></th>\n",
              "      <th>rent</th>\n",
              "      <th>price</th>\n",
              "    </tr>\n",
              "  </thead>\n",
              "  <tbody>\n",
              "    <tr>\n",
              "      <th>count</th>\n",
              "      <td>1470.000000</td>\n",
              "      <td>1300.000000</td>\n",
              "    </tr>\n",
              "    <tr>\n",
              "      <th>mean</th>\n",
              "      <td>1153.895306</td>\n",
              "      <td>3.343647</td>\n",
              "    </tr>\n",
              "    <tr>\n",
              "      <th>std</th>\n",
              "      <td>648.873274</td>\n",
              "      <td>8.753750</td>\n",
              "    </tr>\n",
              "    <tr>\n",
              "      <th>min</th>\n",
              "      <td>0.000000</td>\n",
              "      <td>0.091960</td>\n",
              "    </tr>\n",
              "    <tr>\n",
              "      <th>25%</th>\n",
              "      <td>785.330000</td>\n",
              "      <td>0.836000</td>\n",
              "    </tr>\n",
              "    <tr>\n",
              "      <th>50%</th>\n",
              "      <td>856.310000</td>\n",
              "      <td>1.810900</td>\n",
              "    </tr>\n",
              "    <tr>\n",
              "      <th>75%</th>\n",
              "      <td>1634.000000</td>\n",
              "      <td>4.422222</td>\n",
              "    </tr>\n",
              "    <tr>\n",
              "      <th>max</th>\n",
              "      <td>3395.000000</td>\n",
              "      <td>291.080000</td>\n",
              "    </tr>\n",
              "  </tbody>\n",
              "</table>\n",
              "</div>\n",
              "      <button class=\"colab-df-convert\" onclick=\"convertToInteractive('df-e3929015-9cb6-4647-b39d-51e2135247aa')\"\n",
              "              title=\"Convert this dataframe to an interactive table.\"\n",
              "              style=\"display:none;\">\n",
              "        \n",
              "  <svg xmlns=\"http://www.w3.org/2000/svg\" height=\"24px\"viewBox=\"0 0 24 24\"\n",
              "       width=\"24px\">\n",
              "    <path d=\"M0 0h24v24H0V0z\" fill=\"none\"/>\n",
              "    <path d=\"M18.56 5.44l.94 2.06.94-2.06 2.06-.94-2.06-.94-.94-2.06-.94 2.06-2.06.94zm-11 1L8.5 8.5l.94-2.06 2.06-.94-2.06-.94L8.5 2.5l-.94 2.06-2.06.94zm10 10l.94 2.06.94-2.06 2.06-.94-2.06-.94-.94-2.06-.94 2.06-2.06.94z\"/><path d=\"M17.41 7.96l-1.37-1.37c-.4-.4-.92-.59-1.43-.59-.52 0-1.04.2-1.43.59L10.3 9.45l-7.72 7.72c-.78.78-.78 2.05 0 2.83L4 21.41c.39.39.9.59 1.41.59.51 0 1.02-.2 1.41-.59l7.78-7.78 2.81-2.81c.8-.78.8-2.07 0-2.86zM5.41 20L4 18.59l7.72-7.72 1.47 1.35L5.41 20z\"/>\n",
              "  </svg>\n",
              "      </button>\n",
              "      \n",
              "  <style>\n",
              "    .colab-df-container {\n",
              "      display:flex;\n",
              "      flex-wrap:wrap;\n",
              "      gap: 12px;\n",
              "    }\n",
              "\n",
              "    .colab-df-convert {\n",
              "      background-color: #E8F0FE;\n",
              "      border: none;\n",
              "      border-radius: 50%;\n",
              "      cursor: pointer;\n",
              "      display: none;\n",
              "      fill: #1967D2;\n",
              "      height: 32px;\n",
              "      padding: 0 0 0 0;\n",
              "      width: 32px;\n",
              "    }\n",
              "\n",
              "    .colab-df-convert:hover {\n",
              "      background-color: #E2EBFA;\n",
              "      box-shadow: 0px 1px 2px rgba(60, 64, 67, 0.3), 0px 1px 3px 1px rgba(60, 64, 67, 0.15);\n",
              "      fill: #174EA6;\n",
              "    }\n",
              "\n",
              "    [theme=dark] .colab-df-convert {\n",
              "      background-color: #3B4455;\n",
              "      fill: #D2E3FC;\n",
              "    }\n",
              "\n",
              "    [theme=dark] .colab-df-convert:hover {\n",
              "      background-color: #434B5C;\n",
              "      box-shadow: 0px 1px 3px 1px rgba(0, 0, 0, 0.15);\n",
              "      filter: drop-shadow(0px 1px 2px rgba(0, 0, 0, 0.3));\n",
              "      fill: #FFFFFF;\n",
              "    }\n",
              "  </style>\n",
              "\n",
              "      <script>\n",
              "        const buttonEl =\n",
              "          document.querySelector('#df-e3929015-9cb6-4647-b39d-51e2135247aa button.colab-df-convert');\n",
              "        buttonEl.style.display =\n",
              "          google.colab.kernel.accessAllowed ? 'block' : 'none';\n",
              "\n",
              "        async function convertToInteractive(key) {\n",
              "          const element = document.querySelector('#df-e3929015-9cb6-4647-b39d-51e2135247aa');\n",
              "          const dataTable =\n",
              "            await google.colab.kernel.invokeFunction('convertToInteractive',\n",
              "                                                     [key], {});\n",
              "          if (!dataTable) return;\n",
              "\n",
              "          const docLinkHtml = 'Like what you see? Visit the ' +\n",
              "            '<a target=\"_blank\" href=https://colab.research.google.com/notebooks/data_table.ipynb>data table notebook</a>'\n",
              "            + ' to learn more about interactive tables.';\n",
              "          element.innerHTML = '';\n",
              "          dataTable['output_type'] = 'display_data';\n",
              "          await google.colab.output.renderOutput(dataTable, element);\n",
              "          const docLink = document.createElement('div');\n",
              "          docLink.innerHTML = docLinkHtml;\n",
              "          element.appendChild(docLink);\n",
              "        }\n",
              "      </script>\n",
              "    </div>\n",
              "  </div>\n",
              "  "
            ]
          },
          "metadata": {},
          "execution_count": 8
        }
      ]
    },
    {
      "cell_type": "markdown",
      "id": "240a5e80-0986-4eb0-b779-0286c9999580",
      "metadata": {
        "id": "240a5e80-0986-4eb0-b779-0286c9999580"
      },
      "source": [
        "# Building a Model"
      ]
    },
    {
      "cell_type": "code",
      "source": [
        "df = df.dropna().reset_index(drop=True)\n",
        "df['unit_cost'] = df['price']"
      ],
      "metadata": {
        "id": "5EMtAV15k6Rc"
      },
      "id": "5EMtAV15k6Rc",
      "execution_count": 9,
      "outputs": []
    },
    {
      "cell_type": "code",
      "execution_count": 10,
      "id": "81a48da5-8fe0-4ffb-b10e-0c0eca69b624",
      "metadata": {
        "id": "81a48da5-8fe0-4ffb-b10e-0c0eca69b624"
      },
      "outputs": [],
      "source": [
        "# encode each category as an index\n",
        "products = list(df['product'].unique())\n",
        "countries = list(df['country'].unique())\n",
        "categories = list(df['category'].unique())\n",
        "\n",
        "df['encoded_product'] = [products.index(i) + 1 for i in df['product']]\n",
        "df['encoded_country'] = [countries.index(i) + 1 for i in df['country']]\n",
        "df['encoded_category'] = [categories.index(i) + 1 for i in df['category']]"
      ]
    },
    {
      "cell_type": "code",
      "execution_count": 11,
      "id": "802eea58-d721-4612-9186-971f8bab1350",
      "metadata": {
        "id": "802eea58-d721-4612-9186-971f8bab1350"
      },
      "outputs": [],
      "source": [
        "stan_code = '''\n",
        "\n",
        "data {\n",
        "    int<lower=1> num_units;                       // number of units \n",
        "    real<lower=0> unit_cost[num_units];           // cost per unit \n",
        "    \n",
        "    int<lower=1> num_products;                    // number of grocery items\n",
        "    int<lower=0> encoded_product[num_units];         // code for specific product\n",
        "\n",
        "\n",
        "    int<lower=1> num_countries;                   // number of countries\n",
        "    int<lower=0> encoded_country[num_units];         // product code\n",
        "\n",
        "    int<lower=1> num_cats;                        // number of categories \n",
        "    int<lower=0> cat_code[num_units];             // code for specific category\n",
        "}\n",
        "\n",
        "parameters {\n",
        "    real<lower=0> base_price[num_products];       // unknown base price estimate\n",
        "    real<lower=0> cost_var;                       // unknown base price variance \n",
        "    real<lower=0> country[num_countries];         // unknowm multiplier for countries\n",
        "    real<lower=0> store[num_cats];                // unknown multiplier for categories \n",
        "}\n",
        "\n",
        "model {\n",
        "    base_price ~ gamma(3, 0.75);                // prior for base price\n",
        "    country ~ normal(1, 0.5);                   // prior for the country \n",
        "    store ~ normal(1, 0.5);                      // prior for the category\n",
        "\n",
        "    // likelihood function\n",
        "    for(i in 1:num_units){\n",
        "        unit_cost[i] ~ normal(base_price[encoded_product[i]]*country[encoded_country[i]]*store[cat_code[i]], sqrt(cost_var));\n",
        "    }  \n",
        "}\n",
        "'''"
      ]
    },
    {
      "cell_type": "code",
      "source": [
        "# plot prior for for country and category\n",
        "plt.plot(np.linspace(0,2,100), sts.norm(1, 0.5).pdf(np.linspace(0,2,100)))\n",
        "plt.show()"
      ],
      "metadata": {
        "colab": {
          "base_uri": "https://localhost:8080/",
          "height": 268
        },
        "id": "5s8sfHaSc0n9",
        "outputId": "94807011-9bfc-4b18-c37c-d3d91d1210fd"
      },
      "id": "5s8sfHaSc0n9",
      "execution_count": 12,
      "outputs": [
        {
          "output_type": "display_data",
          "data": {
            "text/plain": [
              "<Figure size 432x288 with 1 Axes>"
            ],
            "image/png": "[encoded data removed]"
          },
          "metadata": {
            "needs_background": "light"
          }
        }
      ]
    },
    {
      "cell_type": "code",
      "source": [
        "# plot prior for base price\n",
        "plt.plot(np.linspace(0,10,100), sts.gamma(3, 0.75).pdf(np.linspace(0,10,100)))\n",
        "plt.show()"
      ],
      "metadata": {
        "colab": {
          "base_uri": "https://localhost:8080/",
          "height": 268
        },
        "id": "DbuDZ2EIfRs2",
        "outputId": "3e3dda14-9d55-45e6-ed35-1a8756a0007c"
      },
      "id": "DbuDZ2EIfRs2",
      "execution_count": 13,
      "outputs": [
        {
          "output_type": "display_data",
          "data": {
            "text/plain": [
              "<Figure size 432x288 with 1 Axes>"
            ],
            "image/png": "[encoded data removed]"
          },
          "metadata": {
            "needs_background": "light"
          }
        }
      ]
    },
    {
      "cell_type": "code",
      "execution_count": 14,
      "id": "12b292c2-2df7-4509-aed4-2d7998e52739",
      "metadata": {
        "colab": {
          "base_uri": "https://localhost:8080/"
        },
        "id": "12b292c2-2df7-4509-aed4-2d7998e52739",
        "outputId": "02525888-e05e-4147-aa4d-536c8c92bc38"
      },
      "outputs": [
        {
          "output_type": "stream",
          "name": "stderr",
          "text": [
            "INFO:pystan:COMPILING THE C++ CODE FOR MODEL anon_model_c3821cd1edce0700c1aaa53c943091fd NOW.\n"
          ]
        }
      ],
      "source": [
        "# set the data to be used by stan\n",
        "stan_data = {\n",
        "    'num_units': df.shape[0],\n",
        "    'unit_cost': list(df['unit_cost']),\n",
        "\n",
        "    'num_products': df['product'].nunique(),\n",
        "    'encoded_product': list(df['encoded_product']),\n",
        "\n",
        "    'num_countries': df['country'].nunique(),\n",
        "    'encoded_country': list(df['encoded_country']),\n",
        "\n",
        "    'num_cats': df['category'].nunique(),\n",
        "    'cat_code':list(df['encoded_category'])\n",
        "}\n",
        "\n",
        "# implement the model\n",
        "model = pystan.StanModel(model_code=stan_code)\n",
        "\n",
        "# generate posterior \n",
        "results = model.sampling(data=stan_data)\n",
        "\n",
        "# extract samples\n",
        "samples = results.extract()\n"
      ]
    },
    {
      "cell_type": "markdown",
      "source": [
        "# Base Price"
      ],
      "metadata": {
        "id": "tO20wzwaqU3Y"
      },
      "id": "tO20wzwaqU3Y"
    },
    {
      "cell_type": "code",
      "source": [
        "print(results.stansummary(pars=['base_price']))"
      ],
      "metadata": {
        "colab": {
          "base_uri": "https://localhost:8080/"
        },
        "id": "joeLzEd1mHYL",
        "outputId": "af7a4e71-110a-4f6c-8776-c66079a859e2"
      },
      "id": "joeLzEd1mHYL",
      "execution_count": 15,
      "outputs": [
        {
          "output_type": "stream",
          "name": "stdout",
          "text": [
            "Inference for Stan model: anon_model_c3821cd1edce0700c1aaa53c943091fd.\n",
            "4 chains, each with iter=2000; warmup=1000; thin=1; \n",
            "post-warmup draws per chain=1000, total post-warmup draws=4000.\n",
            "\n",
            "                 mean se_mean     sd   2.5%    25%    50%    75%  97.5%  n_eff   Rhat\n",
            "base_price[1]    4.87    0.03   1.14   3.03   4.02   4.75   5.56   7.49   1570    1.0\n",
            "base_price[2]    1.87    0.02   0.75   0.62   1.35    1.8   2.33   3.55   2195    1.0\n",
            "base_price[3]    4.26    0.03   1.06    2.5   3.52   4.15   4.89   6.64   1529    1.0\n",
            "base_price[4]    1.77    0.01    0.7   0.58   1.27   1.72    2.2   3.32   2534    1.0\n",
            "base_price[5]     1.7    0.01   0.69   0.58   1.21   1.63    2.1   3.23   2498    1.0\n",
            "base_price[6]     3.6    0.03   0.98   1.94   2.89   3.52    4.2   5.78   1470    1.0\n",
            "base_price[7]    1.55    0.01   0.63   0.51    1.1   1.48   1.93   2.96   2306    1.0\n",
            "base_price[8]    7.51    0.04   1.55   4.87   6.41   7.35   8.46  10.96   1196   1.01\n",
            "base_price[9]    1.47    0.01   0.62   0.47   1.02    1.4   1.86   2.89   2749    1.0\n",
            "base_price[10]   9.21    0.05   1.84   6.08   7.93   9.05  10.28  13.31   1190   1.01\n",
            "\n",
            "Samples were drawn using NUTS at Thu Mar 24 20:04:52 2022.\n",
            "For each parameter, n_eff is a crude measure of effective sample size,\n",
            "and Rhat is the potential scale reduction factor on split chains (at \n",
            "convergence, Rhat=1).\n"
          ]
        }
      ]
    },
    {
      "cell_type": "code",
      "source": [
        "plt.figure(figsize=(20,10))\n",
        "for i in range(len(products)):\n",
        "    plt.hist(samples['base_price'][:, i], label = products[i], density = True, alpha=0.6)\n",
        "plt.legend()\n",
        "plt.xlabel(\"Price\")\n",
        "plt.ylabel(\"Density\")\n",
        "plt.title(\"Posterior base price distribution\")\n",
        "plt.show()"
      ],
      "metadata": {
        "colab": {
          "base_uri": "https://localhost:8080/",
          "height": 627
        },
        "id": "17ZZP2aVs56-",
        "outputId": "08ff83f8-2eaf-4dcb-9a63-1e926499a9be"
      },
      "id": "17ZZP2aVs56-",
      "execution_count": 16,
      "outputs": [
        {
          "output_type": "display_data",
          "data": {
            "text/plain": [
              "<Figure size 1440x720 with 1 Axes>"
            ],
            "image/png": "[encoded data removed]"
          },
          "metadata": {
            "needs_background": "light"
          }
        }
      ]
    },
    {
      "cell_type": "markdown",
      "source": [
        "# Store Type Effect"
      ],
      "metadata": {
        "id": "-8d4KEkJ2DRs"
      },
      "id": "-8d4KEkJ2DRs"
    },
    {
      "cell_type": "code",
      "source": [
        "print(results.stansummary(pars=['store']))"
      ],
      "metadata": {
        "colab": {
          "base_uri": "https://localhost:8080/"
        },
        "id": "Ey9wHu35s9NJ",
        "outputId": "535fca2c-1267-457d-a1a6-10ce21bfda8f"
      },
      "id": "Ey9wHu35s9NJ",
      "execution_count": 17,
      "outputs": [
        {
          "output_type": "stream",
          "name": "stdout",
          "text": [
            "Inference for Stan model: anon_model_c3821cd1edce0700c1aaa53c943091fd.\n",
            "4 chains, each with iter=2000; warmup=1000; thin=1; \n",
            "post-warmup draws per chain=1000, total post-warmup draws=4000.\n",
            "\n",
            "           mean se_mean     sd   2.5%    25%    50%    75%  97.5%  n_eff   Rhat\n",
            "store[1]   0.85  5.7e-3   0.22   0.47   0.69   0.83   0.99   1.31   1454    1.0\n",
            "store[2]   1.16  7.3e-3   0.25    0.7   0.98   1.14   1.32    1.7   1215    1.0\n",
            "store[3]   1.06  6.6e-3   0.25   0.61   0.89   1.05   1.23    1.6   1476    1.0\n",
            "\n",
            "Samples were drawn using NUTS at Thu Mar 24 20:04:52 2022.\n",
            "For each parameter, n_eff is a crude measure of effective sample size,\n",
            "and Rhat is the potential scale reduction factor on split chains (at \n",
            "convergence, Rhat=1).\n"
          ]
        }
      ]
    },
    {
      "cell_type": "code",
      "source": [
        "plt.figure(figsize=(20,10))\n",
        "for i in range(len(df.encoded_category.unique())):\n",
        "    plt.hist(samples['store'][:, i], label = ['Budget', 'Mid-range', 'Expensive'][i], density = True, alpha=0.6)\n",
        "plt.legend()\n",
        "plt.xlabel(\"Store Multiplier\")\n",
        "plt.ylabel(\"Density\")\n",
        "plt.title(\"Posterior store multiplier distribution\")\n",
        "plt.show()"
      ],
      "metadata": {
        "colab": {
          "base_uri": "https://localhost:8080/",
          "height": 627
        },
        "id": "859w_bAa1DWo",
        "outputId": "57c5ec84-2036-4aa1-b547-94a23c46a4d8"
      },
      "id": "859w_bAa1DWo",
      "execution_count": 18,
      "outputs": [
        {
          "output_type": "display_data",
          "data": {
            "text/plain": [
              "<Figure size 1440x720 with 1 Axes>"
            ],
            "image/png": "[encoded data removed]"
          },
          "metadata": {
            "needs_background": "light"
          }
        }
      ]
    },
    {
      "cell_type": "markdown",
      "source": [
        "# Geographical Location Effect"
      ],
      "metadata": {
        "id": "pNRYPrzN69Nz"
      },
      "id": "pNRYPrzN69Nz"
    },
    {
      "cell_type": "code",
      "source": [
        "print(results.stansummary(pars=['country']))"
      ],
      "metadata": {
        "colab": {
          "base_uri": "https://localhost:8080/"
        },
        "id": "W_wygoZV2PPZ",
        "outputId": "6c6b36cc-43ba-4a31-d633-e8601a4095f8"
      },
      "id": "W_wygoZV2PPZ",
      "execution_count": 19,
      "outputs": [
        {
          "output_type": "stream",
          "name": "stdout",
          "text": [
            "Inference for Stan model: anon_model_c3821cd1edce0700c1aaa53c943091fd.\n",
            "4 chains, each with iter=2000; warmup=1000; thin=1; \n",
            "post-warmup draws per chain=1000, total post-warmup draws=4000.\n",
            "\n",
            "             mean se_mean     sd   2.5%    25%    50%    75%  97.5%  n_eff   Rhat\n",
            "country[1]    0.9  6.0e-3   0.21   0.55   0.75   0.88   1.02   1.37   1186    1.0\n",
            "country[2]   0.81  5.6e-3    0.2   0.48   0.67    0.8   0.93   1.26   1239    1.0\n",
            "country[3]   1.31  7.8e-3    0.3   0.77    1.1   1.29    1.5   1.95   1489    1.0\n",
            "\n",
            "Samples were drawn using NUTS at Thu Mar 24 20:04:52 2022.\n",
            "For each parameter, n_eff is a crude measure of effective sample size,\n",
            "and Rhat is the potential scale reduction factor on split chains (at \n",
            "convergence, Rhat=1).\n"
          ]
        }
      ]
    },
    {
      "cell_type": "code",
      "source": [
        "plt.figure(figsize=(20,10))\n",
        "for i in range(len(df.encoded_country.unique())):\n",
        "    plt.hist(samples['country'][:, i], label = ['Germany', 'UK', 'US'][i], density = True, alpha=0.6)\n",
        "plt.legend()\n",
        "plt.xlabel(\"Country Multiplier\")\n",
        "plt.ylabel(\"Density\")\n",
        "plt.title(\"Posterior country multiplier distribution\")\n",
        "plt.show()"
      ],
      "metadata": {
        "colab": {
          "base_uri": "https://localhost:8080/",
          "height": 627
        },
        "id": "Y0y3rnrG4mWc",
        "outputId": "89ac61ca-47e4-42a1-af29-fa1a7f700bfa"
      },
      "id": "Y0y3rnrG4mWc",
      "execution_count": 20,
      "outputs": [
        {
          "output_type": "display_data",
          "data": {
            "text/plain": [
              "<Figure size 1440x720 with 1 Axes>"
            ],
            "image/png": "[encoded data removed]"
          },
          "metadata": {
            "needs_background": "light"
          }
        }
      ]
    },
    {
      "cell_type": "markdown",
      "source": [
        "# Geographical Location and Price Variation"
      ],
      "metadata": {
        "id": "rjHz9qdg86WW"
      },
      "id": "rjHz9qdg86WW"
    },
    {
      "cell_type": "code",
      "source": [
        "# dictionary to store the rents in each country\n",
        "country_rent = {1: [], 2: [], 3: []}\n",
        "\n",
        "# append rent to each country\n",
        "for i in range(len(df)):\n",
        "  country_rent[df['encoded_country'][i]].append(df[\"rent\"][i])\n",
        "\n",
        "# mean of each country\n",
        "for country in country_rent.keys():\n",
        "  country_rent[country] = np.mean(country_rent[country])\n",
        "\n",
        "# dictionary to store the multipliers for each country\n",
        "country_effect = {1: [], 2: [], 3: []}\n",
        "\n",
        "# append multipliers to each country\n",
        "for i in range(1,4):\n",
        "  country_effect[i].append(results['country'][:,i-1])\n",
        "\n",
        "# mean of each multiplier\n",
        "for multiplier in country_effect.keys():\n",
        "  country_effect[multiplier] = np.mean(country_effect[multiplier])\n",
        "\n",
        "\n",
        "# append the data for each axis\n",
        "x = []\n",
        "y = []\n",
        "\n",
        "for country in df.encoded_country:\n",
        "  y.append(country_rent[country])\n",
        "  x.append(country_effect[country])\n",
        "\n",
        "x = np.array(x)\n",
        "y = np.array(y)"
      ],
      "metadata": {
        "id": "Yl6lGt30Qd1D"
      },
      "id": "Yl6lGt30Qd1D",
      "execution_count": 21,
      "outputs": []
    },
    {
      "cell_type": "code",
      "source": [
        "regression = sts.linregress(x, y)\n",
        "plt.figure()\n",
        "plt.scatter(x, y)\n",
        "slope = regression[0]\n",
        "intercept = regression[1]\n",
        "x = np.linspace(0.2, 1.5, 100)\n",
        "plt.plot(x, intercept + slope*x)\n",
        "plt.title('Correlation of rent and country multiplier')\n",
        "plt.ylabel('Rent')\n",
        "plt.xlabel('Country multiplier')\n",
        "plt.show()"
      ],
      "metadata": {
        "colab": {
          "base_uri": "https://localhost:8080/",
          "height": 301
        },
        "id": "CAiuvJSA73Rv",
        "outputId": "6cdb348c-c435-4336-8470-b8eaf2bb624b"
      },
      "id": "CAiuvJSA73Rv",
      "execution_count": 22,
      "outputs": [
        {
          "output_type": "display_data",
          "data": {
            "text/plain": [
              "<Figure size 432x288 with 1 Axes>"
            ],
            "image/png": "[encoded data removed]"
          },
          "metadata": {
            "needs_background": "light"
          }
        }
      ]
    },
    {
      "cell_type": "code",
      "source": [
        "print(\"Pearson correlation coefficient:\", regression[2])\n",
        "print(\"Coefficient of determination:\", regression[2]**2)"
      ],
      "metadata": {
        "colab": {
          "base_uri": "https://localhost:8080/"
        },
        "id": "8XXjHRhx9xmR",
        "outputId": "c93b95b2-b5ba-4e69-9918-0a72a593d435"
      },
      "id": "8XXjHRhx9xmR",
      "execution_count": 23,
      "outputs": [
        {
          "output_type": "stream",
          "name": "stdout",
          "text": [
            "Pearson correlation coefficient: 0.5369709929350918\n",
            "Coefficient of determination: 0.2883378472536984\n"
          ]
        }
      ]
    }
  ],
  "metadata": {
    "kernelspec": {
      "display_name": "Python 3 (ipykernel)",
      "language": "python",
      "name": "python3"
    },
    "language_info": {
      "codemirror_mode": {
        "name": "ipython",
        "version": 3
      },
      "file_extension": ".py",
      "mimetype": "text/x-python",
      "name": "python",
      "nbconvert_exporter": "python",
      "pygments_lexer": "ipython3",
      "version": "3.8.12"
    },
    "colab": {
      "name": "lba.ipynb",
      "provenance": [],
      "collapsed_sections": [],
      "toc_visible": true
    }
  },
  "nbformat": 4,
  "nbformat_minor": 5
}